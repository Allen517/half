{
 "cells": [
  {
   "cell_type": "code",
   "execution_count": 1,
   "metadata": {},
   "outputs": [],
   "source": [
    "import numpy as np\n",
    "import json\n",
    "from pymongo import ASCENDING"
   ]
  },
  {
   "cell_type": "code",
   "execution_count": 2,
   "metadata": {},
   "outputs": [],
   "source": [
    "# %load /home/yqwang/Codes/python/alignment/portrait/DB/MongodbClient.py\n",
    "\n",
    "import sys,os\n",
    "\n",
    "from pymongo import MongoClient\n",
    "\n",
    "class MongodbClient(object):\n",
    "\n",
    "\tdef get_db(self):\n",
    "\t\treturn self.db[self.tab]\n",
    "\n",
    "\tdef __init__(self, db_host='localhost', db_port=27017, db_name='null', tab_name='null'):\n",
    "\t\tself.setDatabase(db_host, db_port, db_name, tab_name)\n",
    "\n",
    "\tdef setDatabase(self, db_host, db_port, db_name, tab_name):\n",
    "\t\tself.client = MongoClient(db_host, db_port)\n",
    "\t\tself.db_host = db_host\n",
    "\t\tself.db_port = db_port\n",
    "\t\tself.db_name = db_name\n",
    "\t\tself.db = self.client[db_name]\n",
    "\t\tself.tab = tab_name\n",
    "\n",
    "\tdef changeTable(self, name):\n",
    "\t\tself.tab = name\n",
    "\n",
    "\tdef put_many(self, records):\n",
    "\t\tif not isinstance(records, list):\n",
    "\t\t\treturn\n",
    "\t\tself.db[self.tab].insert_many(records)\n",
    "\n",
    "\tdef put(self, key, dbComm):\n",
    "\t\tif not isinstance(dbComm, dict):\n",
    "\t\t\treturn None\n",
    "\t\tif self.db[self.tab].find_one(key):\n",
    "\t\t\treturn None\n",
    "\t\telse:\n",
    "\t\t\tself.db[self.tab].insert(dbComm)\n",
    "\n",
    "\tdef update(self, key, val, multi=False):\n",
    "\t\tif not isinstance(val, dict):\n",
    "\t\t\treturn\n",
    "\t\tif not self.db[self.tab].find_one(key):\n",
    "\t\t\tself.put(key, val)\n",
    "\t\telse:\n",
    "\t\t\tself.db[self.tab].update(key,{\"$set\":val}, multi=multi)\n",
    "\n",
    "\tdef delete(self, key):\n",
    "\t\tself.db[self.tab].remove(key)\n",
    "\n",
    "\tdef search(self, prop_name, prop_vals, search_opera='$in'):\n",
    "\t\t\"\"\"\n",
    "\t\tFor example: search('uid', weibo_uids, '$in') # get user infos from weibodb\n",
    "\t\t\"\"\"\n",
    "\t\tfor p in self.db[self.tab].find({prop_name:{search_opera:prop_vals}}):\n",
    "\t\t\tyield p\n",
    "\n",
    "\tdef get(self, key):\n",
    "\t\tif not self.db[self.tab].find_one(key):\n",
    "\t\t\treturn None\n",
    "\t\telse:\n",
    "\t\t\treturn self.db[self.tab].find_one(key)\n",
    "\n",
    "\tdef getAll(self, limit=None, skip=0, filter=None):\n",
    "\t\tif not limit:\n",
    "\t\t\tfor p in self.db[self.tab].find(filter).skip(skip):\n",
    "\t\t\t\tyield p\n",
    "\t\telse:\n",
    "\t\t\tfor p in self.db[self.tab].find(filter).limit(limit).skip(skip):\n",
    "\t\t\t\tyield p\n",
    "\n",
    "\tdef clean(self):\n",
    "\t\tself.client.drop_database(self.db_name)\n",
    "\n",
    "\tdef deleteAll(self):\n",
    "\t\tself.db[self.tab].remove()"
   ]
  },
  {
   "cell_type": "code",
   "execution_count": 3,
   "metadata": {
    "scrolled": true
   },
   "outputs": [
    {
     "name": "stdout",
     "output_type": "stream",
     "text": [
      "cand.flickr-lastfm.half.feat.p10\r\n",
      "cand.flickr-myspace.half.feat.p10\r\n",
      "cand.online-offline.half.feat.p10\r\n",
      "data\r\n",
      "evals_tune_params.sh\r\n",
      "eval_tune_params.sh\r\n",
      "filename_mv.sh\r\n",
      "log\r\n",
      "model_res.flickr-myspace.half.feat.p10\r\n",
      "model_res.flickr-myspace.half.feat.p10.m0.end\r\n",
      "model_res.flickr-myspace.half.feat.p10.m0.src\r\n",
      "model_res.flickr-myspace.half.feat.p10.m1.end\r\n",
      "model_res.flickr-myspace.half.feat.p10.m1.src\r\n",
      "model_res.flickr-myspace.half.feat.p10.m2.end\r\n",
      "model_res.flickr-myspace.half.feat.p10.m2.src\r\n",
      "model_res.flickr-myspace.half.feat.p10.m3.end\r\n",
      "model_res.flickr-myspace.half.feat.p10.m3.src\r\n",
      "model_res.flickr-myspace.half.feat.p10.m4.end\r\n",
      "model_res.flickr-myspace.half.feat.p10.m4.src\r\n",
      "model_res.flickr-myspace.half.feat.p10.m5.end\r\n",
      "model_res.flickr-myspace.half.feat.p10.m5.src\r\n",
      "model_res.flickr-myspace.half.feat.p10.m6.end\r\n",
      "model_res.flickr-myspace.half.feat.p10.m6.src\r\n",
      "model_res.flickr-myspace.half.feat.p10.m7.end\r\n",
      "model_res.flickr-myspace.half.feat.p10.m7.src\r\n",
      "model_res.flickr-myspace.half.feat.p10.m8.end\r\n",
      "model_res.flickr-myspace.half.feat.p10.m8.src\r\n",
      "model_res.flickr-myspace.half.feat.p10.m9.end\r\n",
      "model_res.flickr-myspace.half.feat.p10.m9.src\r\n",
      "mrr.aminer-linkedin.half.alpne.s16.p10\r\n",
      "mrr.aminer-linkedin.half.name+desc.p10\r\n",
      "mrr.flickr-lastfm.half.feat.p10\r\n",
      "mrr.flickr-myspace.half.feat.p10\r\n",
      "mrr.flickr-myspace.half.feat.p10.e1.g.1.o14.n10.t1\r\n",
      "mrr.flickr-myspace.half.feat.p10.e1.g.1.o14.n10.t2\r\n",
      "mrr.flickr-myspace.half.feat.p10.g1.e.01.o14.n10.t2\r\n",
      "mrr.flickr-myspace.half.feat.p10.g1.e.1.o14.n10\r\n",
      "mrr.flickr-myspace.half.feat.p10.o14.n10\r\n",
      "mrr.flickr-myspace.half.feat.p10.o14.n10.t1\r\n",
      "mrr.flickr-myspace.half.feat.p10.o20.n20\r\n",
      "mrr.flickr-myspace.half.feat.p10.o20.n20.t1\r\n",
      "mrr.flickr-myspace.half.feat.p10.o20.n20.t2\r\n",
      "mrr.half.cmb.alpne_s16.integrate.p10\r\n",
      "mrr.half.emb.integrate.p10\r\n",
      "mrr.half.integrate.alpne_s16.p10\r\n",
      "mrr.half.p10.thres9.prop0.7\r\n",
      "nohup.out\r\n",
      "perfs.sh\r\n",
      "README.md\r\n",
      "res\r\n",
      "src\r\n",
      "tune_params_alpne.sh\r\n",
      "tune_params_eta_gamma.sh\r\n",
      "tune_params_lr.sh\r\n",
      "tune_params_os_nr.sh\r\n",
      "tune_params.sh\r\n",
      "日志分析.ipynb\r\n",
      "结果校验.ipynb\r\n"
     ]
    }
   ],
   "source": [
    "!ls"
   ]
  },
  {
   "cell_type": "code",
   "execution_count": 4,
   "metadata": {},
   "outputs": [],
   "source": [
    "def load_modelres(filepath):\n",
    "    model_res = dict()\n",
    "    with open(filepath, 'r') as fin:\n",
    "        for ln in fin:\n",
    "            model_res = json.loads(ln.strip())\n",
    "    return model_res"
   ]
  },
  {
   "cell_type": "code",
   "execution_count": 5,
   "metadata": {
    "collapsed": true
   },
   "outputs": [
    {
     "ename": "KeyboardInterrupt",
     "evalue": "",
     "output_type": "error",
     "traceback": [
      "\u001b[0;31m---------------------------------------------------------------------------\u001b[0m",
      "\u001b[0;31mKeyboardInterrupt\u001b[0m                         Traceback (most recent call last)",
      "\u001b[0;32m<ipython-input-5-5edf94b5de82>\u001b[0m in \u001b[0;36m<module>\u001b[0;34m()\u001b[0m\n\u001b[1;32m     13\u001b[0m             \u001b[0mres_list\u001b[0m\u001b[0;34m.\u001b[0m\u001b[0mappend\u001b[0m\u001b[0;34m(\u001b[0m\u001b[0mres\u001b[0m\u001b[0;34m)\u001b[0m\u001b[0;34m\u001b[0m\u001b[0m\n\u001b[1;32m     14\u001b[0m             \u001b[0mcode_len\u001b[0m \u001b[0;34m=\u001b[0m \u001b[0mlen\u001b[0m\u001b[0;34m(\u001b[0m\u001b[0mcode\u001b[0m\u001b[0;34m)\u001b[0m\u001b[0;34m\u001b[0m\u001b[0m\n\u001b[0;32m---> 15\u001b[0;31m         \u001b[0mdb\u001b[0m\u001b[0;34m.\u001b[0m\u001b[0mput_many\u001b[0m\u001b[0;34m(\u001b[0m\u001b[0mres_list\u001b[0m\u001b[0;34m)\u001b[0m\u001b[0;34m\u001b[0m\u001b[0m\n\u001b[0m\u001b[1;32m     16\u001b[0m         \u001b[0mdb\u001b[0m\u001b[0;34m.\u001b[0m\u001b[0mdb\u001b[0m\u001b[0;34m[\u001b[0m\u001b[0;34m'model_res_m%d_%s'\u001b[0m\u001b[0;34m%\u001b[0m\u001b[0;34m(\u001b[0m\u001b[0mi\u001b[0m\u001b[0;34m,\u001b[0m \u001b[0mtag\u001b[0m\u001b[0;34m)\u001b[0m\u001b[0;34m]\u001b[0m\u001b[0;34m.\u001b[0m\u001b[0mcreate_index\u001b[0m\u001b[0;34m(\u001b[0m\u001b[0;34m\"nd_id\"\u001b[0m\u001b[0;34m)\u001b[0m\u001b[0;34m\u001b[0m\u001b[0m\n\u001b[1;32m     17\u001b[0m         \u001b[0;32mfor\u001b[0m \u001b[0mk\u001b[0m \u001b[0;32min\u001b[0m \u001b[0mrange\u001b[0m\u001b[0;34m(\u001b[0m\u001b[0mcode_len\u001b[0m\u001b[0;34m)\u001b[0m\u001b[0;34m:\u001b[0m\u001b[0;34m\u001b[0m\u001b[0m\n",
      "\u001b[0;32m<ipython-input-2-917a63e63653>\u001b[0m in \u001b[0;36mput_many\u001b[0;34m(self, records)\u001b[0m\n\u001b[1;32m     27\u001b[0m                 \u001b[0;32mif\u001b[0m \u001b[0;32mnot\u001b[0m \u001b[0misinstance\u001b[0m\u001b[0;34m(\u001b[0m\u001b[0mrecords\u001b[0m\u001b[0;34m,\u001b[0m \u001b[0mlist\u001b[0m\u001b[0;34m)\u001b[0m\u001b[0;34m:\u001b[0m\u001b[0;34m\u001b[0m\u001b[0m\n\u001b[1;32m     28\u001b[0m                         \u001b[0;32mreturn\u001b[0m\u001b[0;34m\u001b[0m\u001b[0m\n\u001b[0;32m---> 29\u001b[0;31m                 \u001b[0mself\u001b[0m\u001b[0;34m.\u001b[0m\u001b[0mdb\u001b[0m\u001b[0;34m[\u001b[0m\u001b[0mself\u001b[0m\u001b[0;34m.\u001b[0m\u001b[0mtab\u001b[0m\u001b[0;34m]\u001b[0m\u001b[0;34m.\u001b[0m\u001b[0minsert_many\u001b[0m\u001b[0;34m(\u001b[0m\u001b[0mrecords\u001b[0m\u001b[0;34m)\u001b[0m\u001b[0;34m\u001b[0m\u001b[0m\n\u001b[0m\u001b[1;32m     30\u001b[0m \u001b[0;34m\u001b[0m\u001b[0m\n\u001b[1;32m     31\u001b[0m         \u001b[0;32mdef\u001b[0m \u001b[0mput\u001b[0m\u001b[0;34m(\u001b[0m\u001b[0mself\u001b[0m\u001b[0;34m,\u001b[0m \u001b[0mkey\u001b[0m\u001b[0;34m,\u001b[0m \u001b[0mdbComm\u001b[0m\u001b[0;34m)\u001b[0m\u001b[0;34m:\u001b[0m\u001b[0;34m\u001b[0m\u001b[0m\n",
      "\u001b[0;32m~/.local/install/anaconda3/lib/python3.7/site-packages/pymongo/collection.py\u001b[0m in \u001b[0;36minsert_many\u001b[0;34m(self, documents, ordered, bypass_document_validation, session)\u001b[0m\n\u001b[1;32m    751\u001b[0m         \u001b[0mblk\u001b[0m \u001b[0;34m=\u001b[0m \u001b[0m_Bulk\u001b[0m\u001b[0;34m(\u001b[0m\u001b[0mself\u001b[0m\u001b[0;34m,\u001b[0m \u001b[0mordered\u001b[0m\u001b[0;34m,\u001b[0m \u001b[0mbypass_document_validation\u001b[0m\u001b[0;34m)\u001b[0m\u001b[0;34m\u001b[0m\u001b[0m\n\u001b[1;32m    752\u001b[0m         \u001b[0mblk\u001b[0m\u001b[0;34m.\u001b[0m\u001b[0mops\u001b[0m \u001b[0;34m=\u001b[0m \u001b[0;34m[\u001b[0m\u001b[0mdoc\u001b[0m \u001b[0;32mfor\u001b[0m \u001b[0mdoc\u001b[0m \u001b[0;32min\u001b[0m \u001b[0mgen\u001b[0m\u001b[0;34m(\u001b[0m\u001b[0;34m)\u001b[0m\u001b[0;34m]\u001b[0m\u001b[0;34m\u001b[0m\u001b[0m\n\u001b[0;32m--> 753\u001b[0;31m         \u001b[0mblk\u001b[0m\u001b[0;34m.\u001b[0m\u001b[0mexecute\u001b[0m\u001b[0;34m(\u001b[0m\u001b[0mwrite_concern\u001b[0m\u001b[0;34m,\u001b[0m \u001b[0msession\u001b[0m\u001b[0;34m=\u001b[0m\u001b[0msession\u001b[0m\u001b[0;34m)\u001b[0m\u001b[0;34m\u001b[0m\u001b[0m\n\u001b[0m\u001b[1;32m    754\u001b[0m         \u001b[0;32mreturn\u001b[0m \u001b[0mInsertManyResult\u001b[0m\u001b[0;34m(\u001b[0m\u001b[0minserted_ids\u001b[0m\u001b[0;34m,\u001b[0m \u001b[0mwrite_concern\u001b[0m\u001b[0;34m.\u001b[0m\u001b[0macknowledged\u001b[0m\u001b[0;34m)\u001b[0m\u001b[0;34m\u001b[0m\u001b[0m\n\u001b[1;32m    755\u001b[0m \u001b[0;34m\u001b[0m\u001b[0m\n",
      "\u001b[0;32m~/.local/install/anaconda3/lib/python3.7/site-packages/pymongo/bulk.py\u001b[0m in \u001b[0;36mexecute\u001b[0;34m(self, write_concern, session)\u001b[0m\n\u001b[1;32m    519\u001b[0m                 \u001b[0mself\u001b[0m\u001b[0;34m.\u001b[0m\u001b[0mexecute_no_results\u001b[0m\u001b[0;34m(\u001b[0m\u001b[0msock_info\u001b[0m\u001b[0;34m,\u001b[0m \u001b[0mgenerator\u001b[0m\u001b[0;34m)\u001b[0m\u001b[0;34m\u001b[0m\u001b[0m\n\u001b[1;32m    520\u001b[0m         \u001b[0;32melse\u001b[0m\u001b[0;34m:\u001b[0m\u001b[0;34m\u001b[0m\u001b[0m\n\u001b[0;32m--> 521\u001b[0;31m             \u001b[0;32mreturn\u001b[0m \u001b[0mself\u001b[0m\u001b[0;34m.\u001b[0m\u001b[0mexecute_command\u001b[0m\u001b[0;34m(\u001b[0m\u001b[0mgenerator\u001b[0m\u001b[0;34m,\u001b[0m \u001b[0mwrite_concern\u001b[0m\u001b[0;34m,\u001b[0m \u001b[0msession\u001b[0m\u001b[0;34m)\u001b[0m\u001b[0;34m\u001b[0m\u001b[0m\n\u001b[0m\u001b[1;32m    522\u001b[0m \u001b[0;34m\u001b[0m\u001b[0m\n\u001b[1;32m    523\u001b[0m \u001b[0;34m\u001b[0m\u001b[0m\n",
      "\u001b[0;32m~/.local/install/anaconda3/lib/python3.7/site-packages/pymongo/bulk.py\u001b[0m in \u001b[0;36mexecute_command\u001b[0;34m(self, generator, write_concern, session)\u001b[0m\n\u001b[1;32m    342\u001b[0m \u001b[0;34m\u001b[0m\u001b[0m\n\u001b[1;32m    343\u001b[0m         \u001b[0mclient\u001b[0m \u001b[0;34m=\u001b[0m \u001b[0mself\u001b[0m\u001b[0;34m.\u001b[0m\u001b[0mcollection\u001b[0m\u001b[0;34m.\u001b[0m\u001b[0mdatabase\u001b[0m\u001b[0;34m.\u001b[0m\u001b[0mclient\u001b[0m\u001b[0;34m\u001b[0m\u001b[0m\n\u001b[0;32m--> 344\u001b[0;31m         \u001b[0;32mwith\u001b[0m \u001b[0mclient\u001b[0m\u001b[0;34m.\u001b[0m\u001b[0m_tmp_session\u001b[0m\u001b[0;34m(\u001b[0m\u001b[0msession\u001b[0m\u001b[0;34m)\u001b[0m \u001b[0;32mas\u001b[0m \u001b[0ms\u001b[0m\u001b[0;34m:\u001b[0m\u001b[0;34m\u001b[0m\u001b[0m\n\u001b[0m\u001b[1;32m    345\u001b[0m             client._retry_with_session(\n\u001b[1;32m    346\u001b[0m                 self.is_retryable, retryable_bulk, s, self)\n",
      "\u001b[0;32m~/.local/install/anaconda3/lib/python3.7/contextlib.py\u001b[0m in \u001b[0;36m__enter__\u001b[0;34m(self)\u001b[0m\n\u001b[1;32m    110\u001b[0m         \u001b[0;32mdel\u001b[0m \u001b[0mself\u001b[0m\u001b[0;34m.\u001b[0m\u001b[0margs\u001b[0m\u001b[0;34m,\u001b[0m \u001b[0mself\u001b[0m\u001b[0;34m.\u001b[0m\u001b[0mkwds\u001b[0m\u001b[0;34m,\u001b[0m \u001b[0mself\u001b[0m\u001b[0;34m.\u001b[0m\u001b[0mfunc\u001b[0m\u001b[0;34m\u001b[0m\u001b[0m\n\u001b[1;32m    111\u001b[0m         \u001b[0;32mtry\u001b[0m\u001b[0;34m:\u001b[0m\u001b[0;34m\u001b[0m\u001b[0m\n\u001b[0;32m--> 112\u001b[0;31m             \u001b[0;32mreturn\u001b[0m \u001b[0mnext\u001b[0m\u001b[0;34m(\u001b[0m\u001b[0mself\u001b[0m\u001b[0;34m.\u001b[0m\u001b[0mgen\u001b[0m\u001b[0;34m)\u001b[0m\u001b[0;34m\u001b[0m\u001b[0m\n\u001b[0m\u001b[1;32m    113\u001b[0m         \u001b[0;32mexcept\u001b[0m \u001b[0mStopIteration\u001b[0m\u001b[0;34m:\u001b[0m\u001b[0;34m\u001b[0m\u001b[0m\n\u001b[1;32m    114\u001b[0m             \u001b[0;32mraise\u001b[0m \u001b[0mRuntimeError\u001b[0m\u001b[0;34m(\u001b[0m\u001b[0;34m\"generator didn't yield\"\u001b[0m\u001b[0;34m)\u001b[0m \u001b[0;32mfrom\u001b[0m \u001b[0;32mNone\u001b[0m\u001b[0;34m\u001b[0m\u001b[0m\n",
      "\u001b[0;32m~/.local/install/anaconda3/lib/python3.7/site-packages/pymongo/mongo_client.py\u001b[0m in \u001b[0;36m_tmp_session\u001b[0;34m(self, session, close)\u001b[0m\n\u001b[1;32m   1574\u001b[0m             \u001b[0;32mreturn\u001b[0m\u001b[0;34m\u001b[0m\u001b[0m\n\u001b[1;32m   1575\u001b[0m \u001b[0;34m\u001b[0m\u001b[0m\n\u001b[0;32m-> 1576\u001b[0;31m         \u001b[0ms\u001b[0m \u001b[0;34m=\u001b[0m \u001b[0mself\u001b[0m\u001b[0;34m.\u001b[0m\u001b[0m_ensure_session\u001b[0m\u001b[0;34m(\u001b[0m\u001b[0msession\u001b[0m\u001b[0;34m)\u001b[0m\u001b[0;34m\u001b[0m\u001b[0m\n\u001b[0m\u001b[1;32m   1577\u001b[0m         \u001b[0;32mif\u001b[0m \u001b[0ms\u001b[0m \u001b[0;32mand\u001b[0m \u001b[0mclose\u001b[0m\u001b[0;34m:\u001b[0m\u001b[0;34m\u001b[0m\u001b[0m\n\u001b[1;32m   1578\u001b[0m             \u001b[0;32mwith\u001b[0m \u001b[0ms\u001b[0m\u001b[0;34m:\u001b[0m\u001b[0;34m\u001b[0m\u001b[0m\n",
      "\u001b[0;32m~/.local/install/anaconda3/lib/python3.7/site-packages/pymongo/mongo_client.py\u001b[0m in \u001b[0;36m_ensure_session\u001b[0;34m(self, session)\u001b[0m\n\u001b[1;32m   1561\u001b[0m             \u001b[0;31m# Don't make implicit sessions causally consistent. Applications\u001b[0m\u001b[0;34m\u001b[0m\u001b[0;34m\u001b[0m\u001b[0m\n\u001b[1;32m   1562\u001b[0m             \u001b[0;31m# should always opt-in.\u001b[0m\u001b[0;34m\u001b[0m\u001b[0;34m\u001b[0m\u001b[0m\n\u001b[0;32m-> 1563\u001b[0;31m             \u001b[0;32mreturn\u001b[0m \u001b[0mself\u001b[0m\u001b[0;34m.\u001b[0m\u001b[0m__start_session\u001b[0m\u001b[0;34m(\u001b[0m\u001b[0;32mTrue\u001b[0m\u001b[0;34m,\u001b[0m \u001b[0mcausal_consistency\u001b[0m\u001b[0;34m=\u001b[0m\u001b[0;32mFalse\u001b[0m\u001b[0;34m)\u001b[0m\u001b[0;34m\u001b[0m\u001b[0m\n\u001b[0m\u001b[1;32m   1564\u001b[0m         \u001b[0;32mexcept\u001b[0m \u001b[0;34m(\u001b[0m\u001b[0mConfigurationError\u001b[0m\u001b[0;34m,\u001b[0m \u001b[0mInvalidOperation\u001b[0m\u001b[0;34m)\u001b[0m\u001b[0;34m:\u001b[0m\u001b[0;34m\u001b[0m\u001b[0m\n\u001b[1;32m   1565\u001b[0m             \u001b[0;31m# Sessions not supported, or multiple users authenticated.\u001b[0m\u001b[0;34m\u001b[0m\u001b[0;34m\u001b[0m\u001b[0m\n",
      "\u001b[0;32m~/.local/install/anaconda3/lib/python3.7/site-packages/pymongo/mongo_client.py\u001b[0m in \u001b[0;36m__start_session\u001b[0;34m(self, implicit, **kwargs)\u001b[0m\n\u001b[1;32m   1514\u001b[0m \u001b[0;34m\u001b[0m\u001b[0m\n\u001b[1;32m   1515\u001b[0m         \u001b[0;31m# Raises ConfigurationError if sessions are not supported.\u001b[0m\u001b[0;34m\u001b[0m\u001b[0;34m\u001b[0m\u001b[0m\n\u001b[0;32m-> 1516\u001b[0;31m         \u001b[0mserver_session\u001b[0m \u001b[0;34m=\u001b[0m \u001b[0mself\u001b[0m\u001b[0;34m.\u001b[0m\u001b[0m_get_server_session\u001b[0m\u001b[0;34m(\u001b[0m\u001b[0;34m)\u001b[0m\u001b[0;34m\u001b[0m\u001b[0m\n\u001b[0m\u001b[1;32m   1517\u001b[0m         \u001b[0mopts\u001b[0m \u001b[0;34m=\u001b[0m \u001b[0mclient_session\u001b[0m\u001b[0;34m.\u001b[0m\u001b[0mSessionOptions\u001b[0m\u001b[0;34m(\u001b[0m\u001b[0;34m**\u001b[0m\u001b[0mkwargs\u001b[0m\u001b[0;34m)\u001b[0m\u001b[0;34m\u001b[0m\u001b[0m\n\u001b[1;32m   1518\u001b[0m         return client_session.ClientSession(\n",
      "\u001b[0;32m~/.local/install/anaconda3/lib/python3.7/site-packages/pymongo/mongo_client.py\u001b[0m in \u001b[0;36m_get_server_session\u001b[0;34m(self)\u001b[0m\n\u001b[1;32m   1547\u001b[0m     \u001b[0;32mdef\u001b[0m \u001b[0m_get_server_session\u001b[0m\u001b[0;34m(\u001b[0m\u001b[0mself\u001b[0m\u001b[0;34m)\u001b[0m\u001b[0;34m:\u001b[0m\u001b[0;34m\u001b[0m\u001b[0m\n\u001b[1;32m   1548\u001b[0m         \u001b[0;34m\"\"\"Internal: start or resume a _ServerSession.\"\"\"\u001b[0m\u001b[0;34m\u001b[0m\u001b[0m\n\u001b[0;32m-> 1549\u001b[0;31m         \u001b[0;32mreturn\u001b[0m \u001b[0mself\u001b[0m\u001b[0;34m.\u001b[0m\u001b[0m_topology\u001b[0m\u001b[0;34m.\u001b[0m\u001b[0mget_server_session\u001b[0m\u001b[0;34m(\u001b[0m\u001b[0;34m)\u001b[0m\u001b[0;34m\u001b[0m\u001b[0m\n\u001b[0m\u001b[1;32m   1550\u001b[0m \u001b[0;34m\u001b[0m\u001b[0m\n\u001b[1;32m   1551\u001b[0m     \u001b[0;32mdef\u001b[0m \u001b[0m_return_server_session\u001b[0m\u001b[0;34m(\u001b[0m\u001b[0mself\u001b[0m\u001b[0;34m,\u001b[0m \u001b[0mserver_session\u001b[0m\u001b[0;34m,\u001b[0m \u001b[0mlock\u001b[0m\u001b[0;34m)\u001b[0m\u001b[0;34m:\u001b[0m\u001b[0;34m\u001b[0m\u001b[0m\n",
      "\u001b[0;32m~/.local/install/anaconda3/lib/python3.7/site-packages/pymongo/topology.py\u001b[0m in \u001b[0;36mget_server_session\u001b[0;34m(self)\u001b[0m\n\u001b[1;32m    425\u001b[0m                             \u001b[0many_server_selector\u001b[0m\u001b[0;34m,\u001b[0m\u001b[0;34m\u001b[0m\u001b[0m\n\u001b[1;32m    426\u001b[0m                             \u001b[0mself\u001b[0m\u001b[0;34m.\u001b[0m\u001b[0m_settings\u001b[0m\u001b[0;34m.\u001b[0m\u001b[0mserver_selection_timeout\u001b[0m\u001b[0;34m,\u001b[0m\u001b[0;34m\u001b[0m\u001b[0m\n\u001b[0;32m--> 427\u001b[0;31m                             None)\n\u001b[0m\u001b[1;32m    428\u001b[0m                 \u001b[0;32melif\u001b[0m \u001b[0;32mnot\u001b[0m \u001b[0mself\u001b[0m\u001b[0;34m.\u001b[0m\u001b[0m_description\u001b[0m\u001b[0;34m.\u001b[0m\u001b[0mreadable_servers\u001b[0m\u001b[0;34m:\u001b[0m\u001b[0;34m\u001b[0m\u001b[0m\n\u001b[1;32m    429\u001b[0m                     self._select_servers_loop(\n",
      "\u001b[0;32m~/.local/install/anaconda3/lib/python3.7/site-packages/pymongo/topology.py\u001b[0m in \u001b[0;36m_select_servers_loop\u001b[0;34m(self, selector, timeout, address)\u001b[0m\n\u001b[1;32m    206\u001b[0m             \u001b[0;31m# came after our most recent apply_selector call, since we've\u001b[0m\u001b[0;34m\u001b[0m\u001b[0;34m\u001b[0m\u001b[0m\n\u001b[1;32m    207\u001b[0m             \u001b[0;31m# held the lock until now.\u001b[0m\u001b[0;34m\u001b[0m\u001b[0;34m\u001b[0m\u001b[0m\n\u001b[0;32m--> 208\u001b[0;31m             \u001b[0mself\u001b[0m\u001b[0;34m.\u001b[0m\u001b[0m_condition\u001b[0m\u001b[0;34m.\u001b[0m\u001b[0mwait\u001b[0m\u001b[0;34m(\u001b[0m\u001b[0mcommon\u001b[0m\u001b[0;34m.\u001b[0m\u001b[0mMIN_HEARTBEAT_INTERVAL\u001b[0m\u001b[0;34m)\u001b[0m\u001b[0;34m\u001b[0m\u001b[0m\n\u001b[0m\u001b[1;32m    209\u001b[0m             \u001b[0mself\u001b[0m\u001b[0;34m.\u001b[0m\u001b[0m_description\u001b[0m\u001b[0;34m.\u001b[0m\u001b[0mcheck_compatible\u001b[0m\u001b[0;34m(\u001b[0m\u001b[0;34m)\u001b[0m\u001b[0;34m\u001b[0m\u001b[0m\n\u001b[1;32m    210\u001b[0m             \u001b[0mnow\u001b[0m \u001b[0;34m=\u001b[0m \u001b[0m_time\u001b[0m\u001b[0;34m(\u001b[0m\u001b[0;34m)\u001b[0m\u001b[0;34m\u001b[0m\u001b[0m\n",
      "\u001b[0;32m~/.local/install/anaconda3/lib/python3.7/threading.py\u001b[0m in \u001b[0;36mwait\u001b[0;34m(self, timeout)\u001b[0m\n\u001b[1;32m    298\u001b[0m             \u001b[0;32melse\u001b[0m\u001b[0;34m:\u001b[0m\u001b[0;34m\u001b[0m\u001b[0m\n\u001b[1;32m    299\u001b[0m                 \u001b[0;32mif\u001b[0m \u001b[0mtimeout\u001b[0m \u001b[0;34m>\u001b[0m \u001b[0;36m0\u001b[0m\u001b[0;34m:\u001b[0m\u001b[0;34m\u001b[0m\u001b[0m\n\u001b[0;32m--> 300\u001b[0;31m                     \u001b[0mgotit\u001b[0m \u001b[0;34m=\u001b[0m \u001b[0mwaiter\u001b[0m\u001b[0;34m.\u001b[0m\u001b[0macquire\u001b[0m\u001b[0;34m(\u001b[0m\u001b[0;32mTrue\u001b[0m\u001b[0;34m,\u001b[0m \u001b[0mtimeout\u001b[0m\u001b[0;34m)\u001b[0m\u001b[0;34m\u001b[0m\u001b[0m\n\u001b[0m\u001b[1;32m    301\u001b[0m                 \u001b[0;32melse\u001b[0m\u001b[0;34m:\u001b[0m\u001b[0;34m\u001b[0m\u001b[0m\n\u001b[1;32m    302\u001b[0m                     \u001b[0mgotit\u001b[0m \u001b[0;34m=\u001b[0m \u001b[0mwaiter\u001b[0m\u001b[0;34m.\u001b[0m\u001b[0macquire\u001b[0m\u001b[0;34m(\u001b[0m\u001b[0;32mFalse\u001b[0m\u001b[0;34m)\u001b[0m\u001b[0;34m\u001b[0m\u001b[0m\n",
      "\u001b[0;31mKeyboardInterrupt\u001b[0m: "
     ]
    }
   ],
   "source": [
    "db = MongodbClient(db_name='flickr-myspace')\n",
    "base_path = 'model_res.flickr-myspace.half.feat.p10'\n",
    "for i in range(10):\n",
    "    for tag in ['src', 'end']:\n",
    "        model_res = load_modelres('model_res.flickr-myspace.half.feat.p10.m%d.%s'%(i, tag))\n",
    "        db.changeTable('model_res_m%d_%s'%(i, tag))\n",
    "        code_len = 0\n",
    "        res_list = list()\n",
    "        for k,code in model_res.items():\n",
    "            res = {\"nd_id\":k}\n",
    "            for ci in range(len(code)):\n",
    "                res[str(ci)] = code[ci]\n",
    "            res_list.append(res)\n",
    "            code_len = len(code)\n",
    "        db.put_many(res_list)\n",
    "        db.db['model_res_m%d_%s'%(i, tag)].create_index(\"nd_id\")\n",
    "        for k in range(code_len):\n",
    "            db.db['model_res_m%d_%s'%(i, tag)].create_index(str(k))"
   ]
  },
  {
   "cell_type": "markdown",
   "metadata": {},
   "source": [
    "### Anchors在节点间的距离度量上更为相近么？"
   ]
  },
  {
   "cell_type": "code",
   "execution_count": 6,
   "metadata": {},
   "outputs": [],
   "source": [
    "with open('data/flickr-myspace/flickr-myspace.anchors') as fin:\n",
    "    anchors = list()\n",
    "    for ln in fin:\n",
    "        anchors.append(ln.strip().split(','))"
   ]
  },
  {
   "cell_type": "code",
   "execution_count": 7,
   "metadata": {},
   "outputs": [
    {
     "data": {
      "text/plain": [
       "[['5611', '8247'],\n",
       " ['4730', '10125'],\n",
       " ['6371', '4405'],\n",
       " ['2555', '9583'],\n",
       " ['4362', '1157'],\n",
       " ['5625', '6851'],\n",
       " ['3332', '7397'],\n",
       " ['5253', '1508'],\n",
       " ['6568', '3117'],\n",
       " ['6359', '1885']]"
      ]
     },
     "execution_count": 7,
     "metadata": {},
     "output_type": "execute_result"
    }
   ],
   "source": [
    "anchors[:10]"
   ]
  },
  {
   "cell_type": "code",
   "execution_count": 8,
   "metadata": {},
   "outputs": [],
   "source": [
    "def get_code(res):\n",
    "    return  ','.join([str(res[str(i)]) for i in range(14)])"
   ]
  },
  {
   "cell_type": "code",
   "execution_count": 9,
   "metadata": {},
   "outputs": [
    {
     "name": "stdout",
     "output_type": "stream",
     "text": [
      "src\n",
      "5611 1,-1,1,-1,-1,1,1,-1,-1,1,-1,1,-1,1\n",
      "4730 1,-1,1,-1,-1,1,1,-1,-1,1,-1,1,-1,1\n",
      "6371 1,-1,1,-1,-1,1,1,-1,-1,1,-1,-1,-1,1\n",
      "5 1,-1,1,-1,-1,1,1,-1,-1,1,-1,1,-1,1\n",
      "end\n",
      "8247 1,-1,1,-1,-1,1,1,-1,-1,1,-1,-1,-1,1\n",
      "10125 1,-1,1,-1,-1,1,1,-1,-1,1,-1,1,-1,1\n",
      "10125 1,1,-1,-1,1,-1,-1,1,-1,1,1,1,-1,1\n"
     ]
    }
   ],
   "source": [
    "db = MongodbClient(db_name='flickr-myspace')\n",
    "db.changeTable('model_res_m%d_%s'%(0, 'src'))\n",
    "print('src')\n",
    "print('5611',get_code(db.get({'nd_id':'5611'})))\n",
    "print('4730', get_code(db.get({'nd_id':'4730'})))\n",
    "print('6371', get_code(db.get({'nd_id':'6371'})))\n",
    "print('5', get_code(db.get({'nd_id':'5'})))\n",
    "\n",
    "print('end')\n",
    "db.changeTable('model_res_m%d_%s'%(0, 'end'))\n",
    "print('8247', get_code(db.get({'nd_id':'8247'})))\n",
    "print('10125', get_code(db.get({'nd_id':'10125'})))\n",
    "print('10125', get_code(db.get({'nd_id':'5611'})))\n"
   ]
  },
  {
   "cell_type": "markdown",
   "metadata": {},
   "source": [
    "* anchors内部的距离和外部的距离之间的比较"
   ]
  },
  {
   "cell_type": "code",
   "execution_count": 10,
   "metadata": {},
   "outputs": [],
   "source": [
    "def code_trans(res, n_dim):\n",
    "    code = list()\n",
    "    for i in range(n_dim):\n",
    "        code.append(res[str(i)])\n",
    "    return code"
   ]
  },
  {
   "cell_type": "code",
   "execution_count": 15,
   "metadata": {},
   "outputs": [],
   "source": [
    "def code_sim(from_nd, to_nd):\n",
    "    hm_dist = 0\n",
    "    for k in range(len(from_nd)):\n",
    "#         print(from_nd, to_nd)\n",
    "        hm_dist += abs(from_nd[k]+to_nd[k])\n",
    "    return len(from_nd)-hm_dist/2."
   ]
  },
  {
   "cell_type": "code",
   "execution_count": 40,
   "metadata": {},
   "outputs": [],
   "source": [
    "lookups = {\n",
    "    'src': json.load(open('data/flickr-myspace/flickr.node.lookup.json')), \n",
    "    'end': json.load(open('data/flickr-myspace/myspace.node.lookup.json'))\n",
    "}"
   ]
  },
  {
   "cell_type": "code",
   "execution_count": 53,
   "metadata": {},
   "outputs": [],
   "source": [
    "lookbacks = {\n",
    "    'src': list(),\n",
    "    'end': list()\n",
    "}\n",
    "tags = ['src', 'end']\n",
    "idx = 0\n",
    "for t in ['flickr', 'myspace']:\n",
    "    lookbacks[tags[idx]] = np.load('data/flickr-myspace/{}.node.lookback.npy'.format(t))\n",
    "    idx+=1"
   ]
  },
  {
   "cell_type": "code",
   "execution_count": 26,
   "metadata": {},
   "outputs": [],
   "source": [
    "src_nds_ac = set()\n",
    "end_nds_ac = set()\n",
    "for [ac_src, ac_end] in anchors:\n",
    "    src_nds_ac.add(ac_src)\n",
    "    end_nds_ac.add(ac_end)"
   ]
  },
  {
   "cell_type": "code",
   "execution_count": 71,
   "metadata": {
    "scrolled": true
   },
   "outputs": [
    {
     "name": "stdout",
     "output_type": "stream",
     "text": [
      "Having processed 1000 records @src, model=0\n",
      "Having processed 2000 records @src, model=0\n",
      "Having processed 3000 records @src, model=0\n",
      "Having processed 4000 records @src, model=0\n",
      "Having processed 5000 records @src, model=0\n",
      "Having processed 6000 records @src, model=0\n",
      "Having processed 1000 records @end, model=0\n",
      "Having processed 2000 records @end, model=0\n",
      "Having processed 3000 records @end, model=0\n",
      "Having processed 4000 records @end, model=0\n",
      "Having processed 5000 records @end, model=0\n",
      "Having processed 6000 records @end, model=0\n",
      "Having processed 7000 records @end, model=0\n",
      "Having processed 8000 records @end, model=0\n",
      "Having processed 9000 records @end, model=0\n",
      "Having processed 10000 records @end, model=0\n",
      "Having processed 1000 records @src, model=1\n",
      "Having processed 2000 records @src, model=1\n",
      "Having processed 3000 records @src, model=1\n",
      "Having processed 4000 records @src, model=1\n",
      "Having processed 5000 records @src, model=1\n",
      "Having processed 6000 records @src, model=1\n",
      "Having processed 1000 records @end, model=1\n",
      "Having processed 2000 records @end, model=1\n",
      "Having processed 3000 records @end, model=1\n",
      "Having processed 4000 records @end, model=1\n",
      "Having processed 5000 records @end, model=1\n",
      "Having processed 6000 records @end, model=1\n",
      "Having processed 7000 records @end, model=1\n",
      "Having processed 8000 records @end, model=1\n",
      "Having processed 9000 records @end, model=1\n",
      "Having processed 10000 records @end, model=1\n",
      "Having processed 1000 records @src, model=2\n",
      "Having processed 2000 records @src, model=2\n",
      "Having processed 3000 records @src, model=2\n",
      "Having processed 4000 records @src, model=2\n",
      "Having processed 5000 records @src, model=2\n",
      "Having processed 6000 records @src, model=2\n",
      "Having processed 1000 records @end, model=2\n",
      "Having processed 2000 records @end, model=2\n",
      "Having processed 3000 records @end, model=2\n",
      "Having processed 4000 records @end, model=2\n",
      "Having processed 5000 records @end, model=2\n",
      "Having processed 6000 records @end, model=2\n",
      "Having processed 7000 records @end, model=2\n",
      "Having processed 8000 records @end, model=2\n",
      "Having processed 9000 records @end, model=2\n",
      "Having processed 10000 records @end, model=2\n",
      "Having processed 1000 records @src, model=3\n",
      "Having processed 2000 records @src, model=3\n",
      "Having processed 3000 records @src, model=3\n",
      "Having processed 4000 records @src, model=3\n",
      "Having processed 5000 records @src, model=3\n",
      "Having processed 6000 records @src, model=3\n",
      "Having processed 1000 records @end, model=3\n",
      "Having processed 2000 records @end, model=3\n",
      "Having processed 3000 records @end, model=3\n",
      "Having processed 4000 records @end, model=3\n",
      "Having processed 5000 records @end, model=3\n",
      "Having processed 6000 records @end, model=3\n",
      "Having processed 7000 records @end, model=3\n",
      "Having processed 8000 records @end, model=3\n",
      "Having processed 9000 records @end, model=3\n",
      "Having processed 10000 records @end, model=3\n",
      "Having processed 1000 records @src, model=4\n",
      "Having processed 2000 records @src, model=4\n",
      "Having processed 3000 records @src, model=4\n",
      "Having processed 4000 records @src, model=4\n",
      "Having processed 5000 records @src, model=4\n",
      "Having processed 6000 records @src, model=4\n",
      "Having processed 1000 records @end, model=4\n",
      "Having processed 2000 records @end, model=4\n",
      "Having processed 3000 records @end, model=4\n",
      "Having processed 4000 records @end, model=4\n",
      "Having processed 5000 records @end, model=4\n",
      "Having processed 6000 records @end, model=4\n",
      "Having processed 7000 records @end, model=4\n",
      "Having processed 8000 records @end, model=4\n",
      "Having processed 9000 records @end, model=4\n",
      "Having processed 10000 records @end, model=4\n",
      "Having processed 1000 records @src, model=5\n",
      "Having processed 2000 records @src, model=5\n",
      "Having processed 3000 records @src, model=5\n",
      "Having processed 4000 records @src, model=5\n",
      "Having processed 5000 records @src, model=5\n",
      "Having processed 6000 records @src, model=5\n",
      "Having processed 1000 records @end, model=5\n",
      "Having processed 2000 records @end, model=5\n",
      "Having processed 3000 records @end, model=5\n",
      "Having processed 4000 records @end, model=5\n",
      "Having processed 5000 records @end, model=5\n",
      "Having processed 6000 records @end, model=5\n",
      "Having processed 7000 records @end, model=5\n",
      "Having processed 8000 records @end, model=5\n",
      "Having processed 9000 records @end, model=5\n",
      "Having processed 10000 records @end, model=5\n",
      "Having processed 1000 records @src, model=6\n",
      "Having processed 2000 records @src, model=6\n",
      "Having processed 3000 records @src, model=6\n",
      "Having processed 4000 records @src, model=6\n",
      "Having processed 5000 records @src, model=6\n",
      "Having processed 6000 records @src, model=6\n",
      "Having processed 1000 records @end, model=6\n",
      "Having processed 2000 records @end, model=6\n",
      "Having processed 3000 records @end, model=6\n",
      "Having processed 4000 records @end, model=6\n",
      "Having processed 5000 records @end, model=6\n",
      "Having processed 6000 records @end, model=6\n",
      "Having processed 7000 records @end, model=6\n",
      "Having processed 8000 records @end, model=6\n",
      "Having processed 9000 records @end, model=6\n",
      "Having processed 10000 records @end, model=6\n",
      "Having processed 1000 records @src, model=7\n",
      "Having processed 2000 records @src, model=7\n",
      "Having processed 3000 records @src, model=7\n",
      "Having processed 4000 records @src, model=7\n",
      "Having processed 5000 records @src, model=7\n",
      "Having processed 6000 records @src, model=7\n",
      "Having processed 1000 records @end, model=7\n",
      "Having processed 2000 records @end, model=7\n",
      "Having processed 3000 records @end, model=7\n",
      "Having processed 4000 records @end, model=7\n",
      "Having processed 5000 records @end, model=7\n",
      "Having processed 6000 records @end, model=7\n",
      "Having processed 7000 records @end, model=7\n",
      "Having processed 8000 records @end, model=7\n",
      "Having processed 9000 records @end, model=7\n",
      "Having processed 10000 records @end, model=7\n",
      "Having processed 1000 records @src, model=8\n",
      "Having processed 2000 records @src, model=8\n",
      "Having processed 3000 records @src, model=8\n",
      "Having processed 4000 records @src, model=8\n",
      "Having processed 5000 records @src, model=8\n",
      "Having processed 6000 records @src, model=8\n",
      "Having processed 1000 records @end, model=8\n",
      "Having processed 2000 records @end, model=8\n",
      "Having processed 3000 records @end, model=8\n",
      "Having processed 4000 records @end, model=8\n",
      "Having processed 5000 records @end, model=8\n",
      "Having processed 6000 records @end, model=8\n",
      "Having processed 7000 records @end, model=8\n",
      "Having processed 8000 records @end, model=8\n",
      "Having processed 9000 records @end, model=8\n",
      "Having processed 10000 records @end, model=8\n",
      "Having processed 1000 records @src, model=9\n",
      "Having processed 2000 records @src, model=9\n",
      "Having processed 3000 records @src, model=9\n",
      "Having processed 4000 records @src, model=9\n",
      "Having processed 5000 records @src, model=9\n",
      "Having processed 6000 records @src, model=9\n",
      "Having processed 1000 records @end, model=9\n",
      "Having processed 2000 records @end, model=9\n",
      "Having processed 3000 records @end, model=9\n",
      "Having processed 4000 records @end, model=9\n",
      "Having processed 5000 records @end, model=9\n",
      "Having processed 6000 records @end, model=9\n",
      "Having processed 7000 records @end, model=9\n",
      "Having processed 8000 records @end, model=9\n",
      "Having processed 9000 records @end, model=9\n",
      "Having processed 10000 records @end, model=9\n"
     ]
    }
   ],
   "source": [
    "model_res = [{\n",
    "    'src': list(),\n",
    "    'end': list()\n",
    "} for i in range(10)]\n",
    "\n",
    "for k in range(10):\n",
    "    for t in tags:\n",
    "        cnt = 0\n",
    "        for nd in lookbacks[t]:        \n",
    "            db.changeTable('model_res_m%d_%s'%(k, t))\n",
    "            model_res[k][t].append(code_trans(db.get({'nd_id':nd}),14))\n",
    "            cnt += 1\n",
    "            if not cnt%1000:\n",
    "                print('Having processed %d records @%s, model=%d'%(cnt, t, k))"
   ]
  },
  {
   "cell_type": "code",
   "execution_count": 73,
   "metadata": {},
   "outputs": [
    {
     "name": "stdout",
     "output_type": "stream",
     "text": [
      "10733 10733\n"
     ]
    }
   ],
   "source": [
    "print(len(model_res[0]['end']), len(lookbacks['end']))"
   ]
  },
  {
   "cell_type": "code",
   "execution_count": 80,
   "metadata": {},
   "outputs": [],
   "source": [
    "hm_dist = [list() for k in range(10)]\n",
    "hm_dist_ac = [list() for k in range(10)]\n",
    "\n",
    "for k in range(10):\n",
    "    for ac_src in src_nds_ac:\n",
    "        tmp_dist = list()\n",
    "        tmp_dist_ac = list()\n",
    "        for j in range(len(lookbacks['end'])):\n",
    "            if lookbacks['end'][j] not in end_nds_ac:\n",
    "                tmp_dist.append(code_sim(model_res[k]['src'][lookups['src'][ac_src]], model_res[k]['end'][j]))\n",
    "            else:\n",
    "                tmp_dist_ac.append(code_sim(model_res[k]['src'][lookups['src'][ac_src]], model_res[k]['end'][j]))\n",
    "        hm_dist[k].append(tmp_dist)\n",
    "        hm_dist_ac[k].append(tmp_dist_ac)\n",
    "\n",
    "mean_dist = list()\n",
    "std_dist = list()\n",
    "mean_dist_ac = list()\n",
    "std_dist_ac = list()\n",
    "\n",
    "for k in range(10):\n",
    "    mean_dist.append(np.mean(hm_dist[k],axis=1))\n",
    "    std_dist.append(np.std(hm_dist[k],axis=1))\n",
    "    mean_dist_ac.append(np.mean(hm_dist_ac[k],axis=1))\n",
    "    std_dist_ac.append(np.std(hm_dist_ac[k],axis=1))"
   ]
  },
  {
   "cell_type": "code",
   "execution_count": 81,
   "metadata": {},
   "outputs": [
    {
     "name": "stdout",
     "output_type": "stream",
     "text": [
      "12.727594114274794 1.4561023898314922\n"
     ]
    }
   ],
   "source": [
    "print(mean_dist[0][0],std_dist[0][0])"
   ]
  },
  {
   "cell_type": "code",
   "execution_count": 82,
   "metadata": {},
   "outputs": [
    {
     "name": "stdout",
     "output_type": "stream",
     "text": [
      "2.606741573033708 3.525035057157486\n"
     ]
    }
   ],
   "source": [
    "print(mean_dist_ac[0][0],std_dist_ac[0][0])"
   ]
  },
  {
   "cell_type": "code",
   "execution_count": 89,
   "metadata": {},
   "outputs": [],
   "source": [
    "dist_gap = tuple()\n",
    "for i in range(len(mean_dist)):\n",
    "    dist_gap += mean_dist[i]-mean_dist_ac[i],"
   ]
  },
  {
   "cell_type": "code",
   "execution_count": 93,
   "metadata": {
    "scrolled": true
   },
   "outputs": [
    {
     "name": "stdout",
     "output_type": "stream",
     "text": [
      "[10.12085254 10.12085254 10.12085254 10.12085254 11.15616503 10.12085254\n",
      " 11.15616503 11.15616503 11.15616503 11.15616503 11.15616503 10.12085254\n",
      " 10.12085254 11.15616503 11.15616503 10.12085254 10.12085254 10.12085254\n",
      " 10.12085254 11.15616503 11.15616503 10.12085254 10.12085254 10.12085254\n",
      " 11.15616503 11.15616503 10.12085254 10.12085254 11.15616503 10.12085254\n",
      " 10.12085254 11.15616503 10.12085254 10.12085254 10.12085254 10.12085254\n",
      " 11.15616503 10.12085254 10.12085254 11.15616503 10.12085254 11.15616503\n",
      " 10.12085254 10.12085254 10.12085254 10.12085254 10.12085254 10.12085254\n",
      " 10.12085254 11.15616503 11.15616503 10.12085254 11.15616503 11.15616503\n",
      " 10.12085254 10.12085254 10.12085254 11.15616503 10.12085254 11.15616503\n",
      " 11.15616503 11.15616503 10.12085254 11.15616503 10.12085254 10.12085254\n",
      " 11.15616503 11.15616503 10.12085254 11.15616503 10.12085254 11.15616503\n",
      " 10.12085254 10.12085254 10.12085254 10.12085254 11.15616503 10.12085254\n",
      " 11.15616503 10.12085254 10.12085254 10.12085254 10.12085254 11.15616503\n",
      " 10.12085254 10.12085254 11.15616503 10.12085254 11.15616503 11.15616503\n",
      " 11.15616503 10.12085254 10.12085254 11.15616503 11.15616503 10.12085254\n",
      " 10.12085254 10.12085254 11.15616503 11.15616503 10.12085254 11.15616503\n",
      " 11.15616503 10.12085254 11.15616503 10.12085254 10.12085254 10.12085254\n",
      " 11.15616503 10.12085254 11.15616503 10.12085254 11.15616503 10.12085254\n",
      " 10.12085254 10.12085254 11.15616503 10.12085254 10.12085254 10.12085254\n",
      " 10.12085254 10.12085254 10.12085254 11.15616503 11.15616503 10.12085254\n",
      " 11.15616503 10.12085254 11.15616503 10.12085254 11.15616503 10.12085254\n",
      " 11.15616503 11.15616503 11.15616503 10.12085254 11.15616503 11.15616503\n",
      " 11.15616503 11.15616503 11.15616503 11.15616503 10.12085254 10.12085254\n",
      " 10.12085254 10.12085254 11.15616503 11.15616503 10.12085254 11.15616503\n",
      " 10.12085254 11.15616503 10.12085254 10.12085254 10.12085254 10.12085254\n",
      " 10.12085254 11.15616503 11.15616503  7.1993525  10.12085254 10.12085254\n",
      " 11.15616503 10.12085254 11.15616503 10.12085254 10.12085254 11.15616503\n",
      " 10.12085254  7.1993525   7.1993525  10.12085254 11.15616503 11.15616503\n",
      " 10.12085254 10.12085254 10.12085254 10.12085254 10.12085254 10.12085254\n",
      " 10.12085254 10.12085254 10.12085254 11.15616503 11.15616503 10.12085254\n",
      " 11.15616503 11.15616503 11.15616503 10.12085254 11.15616503 11.15616503\n",
      " 10.12085254 11.15616503 11.15616503 11.15616503 10.12085254 10.12085254\n",
      " 11.15616503 11.15616503 10.12085254 11.15616503 11.15616503 10.12085254\n",
      " 11.15616503 11.15616503 10.12085254 11.15616503 11.15616503 10.12085254\n",
      "  7.1993525  11.15616503 10.12085254  7.1993525  11.15616503 10.12085254\n",
      " 10.12085254 11.15616503 11.15616503 10.12085254 10.12085254 10.12085254\n",
      " 10.12085254 10.12085254 10.12085254 10.12085254 10.12085254 10.12085254\n",
      " 10.12085254 11.15616503 10.12085254 11.15616503 11.15616503 10.12085254\n",
      " 10.12085254 10.12085254 10.12085254 11.15616503 11.15616503 10.12085254\n",
      " 10.12085254 11.15616503 10.12085254 10.12085254 11.15616503 11.15616503\n",
      " 10.12085254 11.15616503 11.15616503 10.12085254 11.15616503 11.15616503\n",
      " 11.15616503 10.12085254 11.15616503 10.12085254 10.12085254 10.12085254\n",
      " 10.12085254 10.12085254 10.12085254 11.15616503 11.15616503 11.15616503\n",
      " 11.15616503 11.15616503 10.12085254]\n"
     ]
    }
   ],
   "source": [
    "print(dist_gap[0])"
   ]
  },
  {
   "cell_type": "markdown",
   "metadata": {},
   "source": [
    "* anchors在训练集内部的和在anchors内部的距离比较"
   ]
  },
  {
   "cell_type": "code",
   "execution_count": 83,
   "metadata": {},
   "outputs": [],
   "source": [
    "with open('data/flickr-myspace/train-test/flickr-myspace.anchors.ptrain10.train') as fin:\n",
    "    anchors_train = list()\n",
    "    for ln in fin:\n",
    "        anchors_train.append(ln.strip().split(','))\n",
    "        \n",
    "src_nds_ac_train = set()\n",
    "end_nds_ac_train = set()\n",
    "for [ac_src, ac_end] in anchors:\n",
    "    src_nds_ac_train.add(ac_src)\n",
    "    end_nds_ac_train.add(ac_end)"
   ]
  },
  {
   "cell_type": "code",
   "execution_count": 84,
   "metadata": {},
   "outputs": [],
   "source": [
    "hm_dist_ac_train = [list() for k in range(10)]\n",
    "\n",
    "for k in range(10):\n",
    "    for ac_src in src_nds_ac_train:\n",
    "        tmp_dist_ac = list()\n",
    "        for j in range(len(lookbacks['end'])):\n",
    "            if lookbacks['end'][j] in end_nds_ac_train:\n",
    "                tmp_dist_ac.append(code_sim(model_res[k]['src'][lookups['src'][ac_src]], model_res[k]['end'][j]))\n",
    "        hm_dist_ac_train[k].append(tmp_dist_ac)"
   ]
  },
  {
   "cell_type": "code",
   "execution_count": 86,
   "metadata": {},
   "outputs": [],
   "source": [
    "mean_dist_ac_train = list()\n",
    "std_dist_ac_train = list()\n",
    "\n",
    "for k in range(10):\n",
    "    mean_dist_ac_train.append(np.mean(hm_dist_ac_train[k],axis=1))\n",
    "    std_dist_ac_train.append(np.std(hm_dist_ac_train[k],axis=1))"
   ]
  },
  {
   "cell_type": "code",
   "execution_count": 87,
   "metadata": {},
   "outputs": [],
   "source": [
    "dist_gap_ac = tuple()\n",
    "for i in range(len(mean_dist_ac)):\n",
    "    dist_gap_ac += mean_dist_ac[i]-mean_dist_ac_train[i],"
   ]
  },
  {
   "cell_type": "code",
   "execution_count": 92,
   "metadata": {
    "scrolled": true
   },
   "outputs": [
    {
     "name": "stdout",
     "output_type": "stream",
     "text": [
      "[0. 0. 0. 0. 0. 0. 0. 0. 0. 0. 0. 0. 0. 0. 0. 0. 0. 0. 0. 0. 0. 0. 0. 0.\n",
      " 0. 0. 0. 0. 0. 0. 0. 0. 0. 0. 0. 0. 0. 0. 0. 0. 0. 0. 0. 0. 0. 0. 0. 0.\n",
      " 0. 0. 0. 0. 0. 0. 0. 0. 0. 0. 0. 0. 0. 0. 0. 0. 0. 0. 0. 0. 0. 0. 0. 0.\n",
      " 0. 0. 0. 0. 0. 0. 0. 0. 0. 0. 0. 0. 0. 0. 0. 0. 0. 0. 0. 0. 0. 0. 0. 0.\n",
      " 0. 0. 0. 0. 0. 0. 0. 0. 0. 0. 0. 0. 0. 0. 0. 0. 0. 0. 0. 0. 0. 0. 0. 0.\n",
      " 0. 0. 0. 0. 0. 0. 0. 0. 0. 0. 0. 0. 0. 0. 0. 0. 0. 0. 0. 0. 0. 0. 0. 0.\n",
      " 0. 0. 0. 0. 0. 0. 0. 0. 0. 0. 0. 0. 0. 0. 0. 0. 0. 0. 0. 0. 0. 0. 0. 0.\n",
      " 0. 0. 0. 0. 0. 0. 0. 0. 0. 0. 0. 0. 0. 0. 0. 0. 0. 0. 0. 0. 0. 0. 0. 0.\n",
      " 0. 0. 0. 0. 0. 0. 0. 0. 0. 0. 0. 0. 0. 0. 0. 0. 0. 0. 0. 0. 0. 0. 0. 0.\n",
      " 0. 0. 0. 0. 0. 0. 0. 0. 0. 0. 0. 0. 0. 0. 0. 0. 0. 0. 0. 0. 0. 0. 0. 0.\n",
      " 0. 0. 0. 0. 0. 0. 0. 0. 0. 0. 0. 0. 0. 0. 0. 0. 0. 0. 0. 0. 0. 0. 0. 0.\n",
      " 0. 0. 0.]\n"
     ]
    }
   ],
   "source": [
    "print(dist_gap_ac[0])"
   ]
  },
  {
   "cell_type": "markdown",
   "metadata": {},
   "source": [
    "### 哪些节点之间的距离度量比较相近？"
   ]
  },
  {
   "cell_type": "code",
   "execution_count": null,
   "metadata": {},
   "outputs": [],
   "source": []
  }
 ],
 "metadata": {
  "kernelspec": {
   "display_name": "Python 3",
   "language": "python",
   "name": "python3"
  },
  "language_info": {
   "codemirror_mode": {
    "name": "ipython",
    "version": 3
   },
   "file_extension": ".py",
   "mimetype": "text/x-python",
   "name": "python",
   "nbconvert_exporter": "python",
   "pygments_lexer": "ipython3",
   "version": "3.7.0"
  }
 },
 "nbformat": 4,
 "nbformat_minor": 2
}
